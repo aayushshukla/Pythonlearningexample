{
  "nbformat": 4,
  "nbformat_minor": 0,
  "metadata": {
    "colab": {
      "provenance": []
    },
    "kernelspec": {
      "name": "python3",
      "display_name": "Python 3"
    },
    "language_info": {
      "name": "python"
    }
  },
  "cells": [
    {
      "cell_type": "code",
      "execution_count": 1,
      "metadata": {
        "id": "aFnWK0PMZMyC"
      },
      "outputs": [],
      "source": [
        "#numpy The fundamental package for scientific computing with Python\n",
        "# powerful n dimensional array , Numerical computing tools , open source"
      ]
    },
    {
      "cell_type": "code",
      "source": [
        "# arrays - homogenous ,index\n",
        "# array can be one dimention and n - dimension\n",
        "# we can easily perform math operations on array"
      ],
      "metadata": {
        "id": "XsuWRRV_ZvbO"
      },
      "execution_count": null,
      "outputs": []
    },
    {
      "cell_type": "code",
      "source": [
        "l=[1,2,3,4]\n",
        "l1=[]\n",
        "for item in l:\n",
        "  l1.append(item*2)\n",
        "\n",
        "print(l1)\n"
      ],
      "metadata": {
        "colab": {
          "base_uri": "https://localhost:8080/"
        },
        "id": "eI8JJCu-ajaz",
        "outputId": "8daf5dc1-8c07-414c-e903-bcf9fe277d5f"
      },
      "execution_count": 2,
      "outputs": [
        {
          "output_type": "stream",
          "name": "stdout",
          "text": [
            "[2, 4, 6, 8]\n"
          ]
        }
      ]
    },
    {
      "cell_type": "code",
      "source": [
        "#python -m pip install numpy\n",
        "import numpy as np\n"
      ],
      "metadata": {
        "id": "sIMhT705av8u"
      },
      "execution_count": 3,
      "outputs": []
    },
    {
      "cell_type": "code",
      "source": [
        "arr=np.array([10,20,30,40])\n",
        "print(type(arr))\n",
        "print(arr)\n",
        "print(arr**2)"
      ],
      "metadata": {
        "colab": {
          "base_uri": "https://localhost:8080/"
        },
        "id": "a-y-qnWbbUcC",
        "outputId": "91f22898-7149-477a-ed41-8cf3cb8d8dba"
      },
      "execution_count": 5,
      "outputs": [
        {
          "output_type": "stream",
          "name": "stdout",
          "text": [
            "<class 'numpy.ndarray'>\n",
            "[10 20 30 40]\n",
            "[ 100  400  900 1600]\n"
          ]
        }
      ]
    },
    {
      "cell_type": "code",
      "source": [
        "print('dimension of array',arr.ndim)\n",
        "print('data type of item of array',arr.dtype)\n",
        "print('size of item of array',arr.itemsize)\n"
      ],
      "metadata": {
        "colab": {
          "base_uri": "https://localhost:8080/"
        },
        "id": "ow3IgvmJbgYD",
        "outputId": "510c4ad7-5419-4093-cbd2-5826cae7d728"
      },
      "execution_count": 8,
      "outputs": [
        {
          "output_type": "stream",
          "name": "stdout",
          "text": [
            "dimension of array 1\n",
            "data type of item of array int64\n",
            "size of item of array 8\n"
          ]
        }
      ]
    },
    {
      "cell_type": "code",
      "source": [
        "arr=np.array([10,20,30,40],dtype=np.float32)\n",
        "print(type(arr))\n",
        "print(arr)\n",
        "print('data type of item of array',arr.dtype)\n",
        "print('size of item of array',arr.itemsize)\n",
        "print('length of array',len(arr))\n",
        "print('get shape of array',arr.shape)"
      ],
      "metadata": {
        "colab": {
          "base_uri": "https://localhost:8080/"
        },
        "id": "wZE5g8CBb5sv",
        "outputId": "c0514f80-bc77-4b51-9cb2-aedf99cc246a"
      },
      "execution_count": 11,
      "outputs": [
        {
          "output_type": "stream",
          "name": "stdout",
          "text": [
            "<class 'numpy.ndarray'>\n",
            "[10. 20. 30. 40.]\n",
            "data type of item of array float32\n",
            "size of item of array 4\n",
            "length of array 4\n",
            "get shape of array (4,)\n"
          ]
        }
      ]
    },
    {
      "cell_type": "code",
      "source": [
        "mat=np.array([[10,20,30],[40,50,60],[70,80,90]])\n",
        "print(mat)"
      ],
      "metadata": {
        "colab": {
          "base_uri": "https://localhost:8080/"
        },
        "id": "1i2DkHTDcdKc",
        "outputId": "c2f2ff2c-24e9-49ff-c7a3-1aacfaf1b35f"
      },
      "execution_count": 12,
      "outputs": [
        {
          "output_type": "stream",
          "name": "stdout",
          "text": [
            "[[10 20 30]\n",
            " [40 50 60]\n",
            " [70 80 90]]\n"
          ]
        }
      ]
    },
    {
      "cell_type": "code",
      "source": [
        "print('length of array',len(mat))\n",
        "print('get shape of array',mat.shape) # shape will return no of rows and columns of an array\n",
        "print('dimension of array',mat.ndim)"
      ],
      "metadata": {
        "colab": {
          "base_uri": "https://localhost:8080/"
        },
        "id": "KL9vSBz4dBus",
        "outputId": "2f942e0f-0c6d-48c2-f6de-a8bc1921bff1"
      },
      "execution_count": 14,
      "outputs": [
        {
          "output_type": "stream",
          "name": "stdout",
          "text": [
            "length of array 3\n",
            "get shape of array (3, 3)\n",
            "dimension of array 2\n"
          ]
        }
      ]
    },
    {
      "cell_type": "code",
      "source": [
        "z=np.zeros((2,4),dtype=np.int32)\n",
        "print('Zero array \\n',z)"
      ],
      "metadata": {
        "colab": {
          "base_uri": "https://localhost:8080/"
        },
        "id": "D4saJU5DdJiD",
        "outputId": "19da6b56-4c28-4fb4-d42a-f75da72fc2cf"
      },
      "execution_count": 16,
      "outputs": [
        {
          "output_type": "stream",
          "name": "stdout",
          "text": [
            "Zero array \n",
            " [[0 0 0 0]\n",
            " [0 0 0 0]]\n"
          ]
        }
      ]
    },
    {
      "cell_type": "code",
      "source": [
        "o=np.ones((4,4),dtype=np.int32)\n",
        "print('ones array \\n',o)"
      ],
      "metadata": {
        "colab": {
          "base_uri": "https://localhost:8080/"
        },
        "id": "-TmLPp7xdmhK",
        "outputId": "57b02ac1-a5c9-48d2-89c6-5f34752287f8"
      },
      "execution_count": 17,
      "outputs": [
        {
          "output_type": "stream",
          "name": "stdout",
          "text": [
            "ones array \n",
            " [[1 1 1 1]\n",
            " [1 1 1 1]\n",
            " [1 1 1 1]\n",
            " [1 1 1 1]]\n"
          ]
        }
      ]
    },
    {
      "cell_type": "code",
      "source": [
        "n=int(input('enter no'))\n",
        "print(o*n)"
      ],
      "metadata": {
        "colab": {
          "base_uri": "https://localhost:8080/"
        },
        "id": "d6IDexA6dyML",
        "outputId": "3f988ecd-8d1b-4ddb-ca77-81cf697223ba"
      },
      "execution_count": 19,
      "outputs": [
        {
          "output_type": "stream",
          "name": "stdout",
          "text": [
            "enter no15\n",
            "[[15 15 15 15]\n",
            " [15 15 15 15]\n",
            " [15 15 15 15]\n",
            " [15 15 15 15]]\n"
          ]
        }
      ]
    },
    {
      "cell_type": "code",
      "source": [
        "n=int(input('enter no'))\n",
        "f=np.full((3,3),n)  #(shape,valuetofill)\n",
        "print('filled array \\n',f)"
      ],
      "metadata": {
        "colab": {
          "base_uri": "https://localhost:8080/"
        },
        "id": "sPenqUA0d61j",
        "outputId": "3a194fc2-69f1-404a-d4ab-1221d658ce68"
      },
      "execution_count": 21,
      "outputs": [
        {
          "output_type": "stream",
          "name": "stdout",
          "text": [
            "enter no5\n",
            "filled array \n",
            " [[5 5 5]\n",
            " [5 5 5]\n",
            " [5 5 5]]\n"
          ]
        }
      ]
    },
    {
      "cell_type": "code",
      "source": [
        "#identical matrix\n",
        "identical = np.eye(4,dtype=np.int32)\n",
        "print(identical)"
      ],
      "metadata": {
        "colab": {
          "base_uri": "https://localhost:8080/"
        },
        "id": "b0smB2wheKSD",
        "outputId": "077d44ed-dd5a-4f6f-b41f-63150c8e8e7f"
      },
      "execution_count": 23,
      "outputs": [
        {
          "output_type": "stream",
          "name": "stdout",
          "text": [
            "[[1 0 0 0]\n",
            " [0 1 0 0]\n",
            " [0 0 1 0]\n",
            " [0 0 0 1]]\n"
          ]
        }
      ]
    },
    {
      "cell_type": "code",
      "source": [
        "randomarr=np.random.random((3,2))\n",
        "print('Random array \\n',randomarr)"
      ],
      "metadata": {
        "colab": {
          "base_uri": "https://localhost:8080/"
        },
        "id": "vIqn9Rcvejrc",
        "outputId": "24177138-207a-4058-a6b8-0405e94f5209"
      },
      "execution_count": 24,
      "outputs": [
        {
          "output_type": "stream",
          "name": "stdout",
          "text": [
            "Random array \n",
            " [[0.12356519 0.48136534]\n",
            " [0.11368573 0.75587341]\n",
            " [0.46655163 0.92762318]]\n"
          ]
        }
      ]
    },
    {
      "cell_type": "code",
      "source": [
        "randomintarr=np.random.randint(low=10,high=30,size=(4,4)) # randint(start, end ,size)\n",
        "print(randomintarr)"
      ],
      "metadata": {
        "colab": {
          "base_uri": "https://localhost:8080/"
        },
        "id": "LhJbYYk4e4Ov",
        "outputId": "d72304d3-a384-4ebb-d9a2-55f638713ba4"
      },
      "execution_count": 28,
      "outputs": [
        {
          "output_type": "stream",
          "name": "stdout",
          "text": [
            "[[28 25 18 25]\n",
            " [29 19 20 24]\n",
            " [26 18 23 23]\n",
            " [12 29 26 16]]\n"
          ]
        }
      ]
    },
    {
      "cell_type": "code",
      "source": [
        "mat=np.array([[10,20,30],[40,50,60],[70,80,90]])\n",
        "print(mat)"
      ],
      "metadata": {
        "colab": {
          "base_uri": "https://localhost:8080/"
        },
        "id": "PIb2XnANfOYF",
        "outputId": "c768378a-626a-42ac-f84e-679be1cf58aa"
      },
      "execution_count": 29,
      "outputs": [
        {
          "output_type": "stream",
          "name": "stdout",
          "text": [
            "[[10 20 30]\n",
            " [40 50 60]\n",
            " [70 80 90]]\n"
          ]
        }
      ]
    },
    {
      "cell_type": "code",
      "source": [
        "# transpose array - convert rows into columns and columns into rows\n",
        "tmat=mat.T\n",
        "print('Transpose array \\n',tmat)"
      ],
      "metadata": {
        "colab": {
          "base_uri": "https://localhost:8080/"
        },
        "id": "TgR_NNLwfffn",
        "outputId": "b868b7bf-7c75-4976-a19c-c2ca71e7ce5b"
      },
      "execution_count": 30,
      "outputs": [
        {
          "output_type": "stream",
          "name": "stdout",
          "text": [
            "Transpose array \n",
            " [[10 40 70]\n",
            " [20 50 80]\n",
            " [30 60 90]]\n"
          ]
        }
      ]
    },
    {
      "cell_type": "code",
      "source": [
        "tmat1=mat.transpose()\n",
        "print('Transpose array \\n',tmat1)"
      ],
      "metadata": {
        "colab": {
          "base_uri": "https://localhost:8080/"
        },
        "id": "uka7whY9fuUM",
        "outputId": "f2083630-6e02-4e87-d5e0-3b7a575cc44e"
      },
      "execution_count": 31,
      "outputs": [
        {
          "output_type": "stream",
          "name": "stdout",
          "text": [
            "Transpose array \n",
            " [[10 40 70]\n",
            " [20 50 80]\n",
            " [30 60 90]]\n"
          ]
        }
      ]
    },
    {
      "cell_type": "code",
      "source": [
        "#reshape and resize an array\n",
        "mat=np.array([[10,20,30],[40,50,60],[70,80,90]])\n",
        "print(mat)"
      ],
      "metadata": {
        "colab": {
          "base_uri": "https://localhost:8080/"
        },
        "id": "QnH1W2Dlf4zz",
        "outputId": "ae8121b2-f664-4b71-bd86-8d1079edbd85"
      },
      "execution_count": 32,
      "outputs": [
        {
          "output_type": "stream",
          "name": "stdout",
          "text": [
            "[[10 20 30]\n",
            " [40 50 60]\n",
            " [70 80 90]]\n"
          ]
        }
      ]
    },
    {
      "cell_type": "code",
      "source": [
        "#reshape() will change the shape of array.\n",
        "#in reshape no of elements of array  should be same\n",
        "# original array is not change, new array will be created\n",
        "rarr=np.reshape(mat,(1,9))   # np.reshape(arr,newshape) newshape must same total no elements as orignal shape\n",
        "print('reshape array \\n',rarr)\n",
        "print('shape of array',rarr.shape)\n",
        "print('dimension is ',rarr.ndim)"
      ],
      "metadata": {
        "colab": {
          "base_uri": "https://localhost:8080/"
        },
        "id": "pj85ZLMlgWbg",
        "outputId": "1b453166-c6c1-4bcc-f189-46776e7be34c"
      },
      "execution_count": 44,
      "outputs": [
        {
          "output_type": "stream",
          "name": "stdout",
          "text": [
            "reshape array \n",
            " [[10 20 30 40 50 60 70 80 90]]\n",
            "shape of array (1, 9)\n",
            "dimension is  2\n"
          ]
        }
      ]
    },
    {
      "cell_type": "code",
      "source": [
        "rarr=np.reshape(mat,(9,1))   # np.reshape(arr,newshape) newshape must same total no elements as orignal shape\n",
        "print('reshape array \\n',rarr)"
      ],
      "metadata": {
        "colab": {
          "base_uri": "https://localhost:8080/"
        },
        "id": "H-1Y3fpxhIeP",
        "outputId": "22d7d1d6-f6e1-40d4-aef0-186aaba0885c"
      },
      "execution_count": 34,
      "outputs": [
        {
          "output_type": "stream",
          "name": "stdout",
          "text": [
            "reshape array \n",
            " [[10]\n",
            " [20]\n",
            " [30]\n",
            " [40]\n",
            " [50]\n",
            " [60]\n",
            " [70]\n",
            " [80]\n",
            " [90]]\n"
          ]
        }
      ]
    },
    {
      "cell_type": "code",
      "source": [
        "#resize() resize array\n",
        "resizedarr=np.resize(mat,(5,5))\n",
        "print('Resized array \\n',resizedarr)\n"
      ],
      "metadata": {
        "colab": {
          "base_uri": "https://localhost:8080/"
        },
        "id": "5IqPPsCyhMMP",
        "outputId": "715ab406-297b-4d93-ac9e-cb016e76ca85"
      },
      "execution_count": 38,
      "outputs": [
        {
          "output_type": "stream",
          "name": "stdout",
          "text": [
            "Resized array \n",
            " [[10 20 30 40 50]\n",
            " [60 70 80 90 10]\n",
            " [20 30 40 50 60]\n",
            " [70 80 90 10 20]\n",
            " [30 40 50 60 70]]\n"
          ]
        }
      ]
    },
    {
      "cell_type": "code",
      "source": [
        "resizedarr=np.resize(mat,(2,2))\n",
        "print('Resized array \\n',resizedarr)"
      ],
      "metadata": {
        "colab": {
          "base_uri": "https://localhost:8080/"
        },
        "id": "m2InhuMghPQG",
        "outputId": "93461883-9c90-4464-a010-b236c9f4a00b"
      },
      "execution_count": 39,
      "outputs": [
        {
          "output_type": "stream",
          "name": "stdout",
          "text": [
            "Resized array \n",
            " [[10 20]\n",
            " [30 40]]\n"
          ]
        }
      ]
    },
    {
      "cell_type": "code",
      "source": [
        "#convert array in 1 dim\n",
        "onedimarr=mat.ravel() # Return a flattened array.\n",
        "print(onedimarr)\n",
        "print('shape is',onedimarr.shape)\n",
        "print(onedimarr.ndim)"
      ],
      "metadata": {
        "colab": {
          "base_uri": "https://localhost:8080/"
        },
        "id": "GTJDqiqdh-Ng",
        "outputId": "9e0a7508-197f-4ae1-c20f-c0fc8217bb61"
      },
      "execution_count": 43,
      "outputs": [
        {
          "output_type": "stream",
          "name": "stdout",
          "text": [
            "[10 20 30 40 50 60 70 80 90]\n",
            "shape is (9,)\n",
            "1\n"
          ]
        }
      ]
    },
    {
      "cell_type": "code",
      "source": [
        "#arange(start,end,step) generate 1 dim array in a given range  end is excluded\n",
        "arr =np.arange(10,20,2)\n",
        "print(arr)"
      ],
      "metadata": {
        "colab": {
          "base_uri": "https://localhost:8080/"
        },
        "id": "ELVxq-yOibGl",
        "outputId": "f5830b43-6be8-47e0-9ecf-fbd15666c949"
      },
      "execution_count": 45,
      "outputs": [
        {
          "output_type": "stream",
          "name": "stdout",
          "text": [
            "[10 12 14 16 18]\n"
          ]
        }
      ]
    },
    {
      "cell_type": "code",
      "source": [
        "arr =np.arange(100,90,-1)\n",
        "print(arr)"
      ],
      "metadata": {
        "colab": {
          "base_uri": "https://localhost:8080/"
        },
        "id": "P1tOcIeljVee",
        "outputId": "23bf64fe-827c-490d-9ec1-4873ae103d3b"
      },
      "execution_count": 46,
      "outputs": [
        {
          "output_type": "stream",
          "name": "stdout",
          "text": [
            "[100  99  98  97  96  95  94  93  92  91]\n"
          ]
        }
      ]
    },
    {
      "cell_type": "code",
      "source": [
        "arr=arr.reshape((5,2))\n",
        "print(arr)"
      ],
      "metadata": {
        "colab": {
          "base_uri": "https://localhost:8080/"
        },
        "id": "hVLgR1U6ja6S",
        "outputId": "30813709-4590-4259-97dc-ae8e5bacac2b"
      },
      "execution_count": 47,
      "outputs": [
        {
          "output_type": "stream",
          "name": "stdout",
          "text": [
            "[[100  99]\n",
            " [ 98  97]\n",
            " [ 96  95]\n",
            " [ 94  93]\n",
            " [ 92  91]]\n"
          ]
        }
      ]
    },
    {
      "cell_type": "code",
      "source": [
        "# access value  arrayname[index], arrayname[row][column] ,arr[x][y][z]\n",
        "print('value at 0 row 0 column',arr[0][0])\n",
        "print(arr[3][1])\n",
        "#print(arr[6][3]) IndexError: index 6 is out of bounds for axis 0 with size 5"
      ],
      "metadata": {
        "colab": {
          "base_uri": "https://localhost:8080/"
        },
        "id": "6J-jfdaQjqY5",
        "outputId": "dc1544ae-f771-4799-dfa5-9e6d304253d7"
      },
      "execution_count": 52,
      "outputs": [
        {
          "output_type": "stream",
          "name": "stdout",
          "text": [
            "value at 0 row 0 column 100\n",
            "93\n"
          ]
        }
      ]
    },
    {
      "cell_type": "code",
      "source": [
        "# updatevalue arrayname[index]=value , arr[row][column]=value\n",
        "arr[0][0]=66\n",
        "print(arr)"
      ],
      "metadata": {
        "colab": {
          "base_uri": "https://localhost:8080/"
        },
        "id": "6Twcby0xj3lZ",
        "outputId": "636c0d42-7f3a-46bc-d9c2-2a44102bbe2b"
      },
      "execution_count": 54,
      "outputs": [
        {
          "output_type": "stream",
          "name": "stdout",
          "text": [
            "[[66 99]\n",
            " [98 97]\n",
            " [96 95]\n",
            " [94 93]\n",
            " [92 91]]\n"
          ]
        }
      ]
    },
    {
      "cell_type": "code",
      "source": [
        "mat"
      ],
      "metadata": {
        "colab": {
          "base_uri": "https://localhost:8080/"
        },
        "id": "HNeXl2stkZWz",
        "outputId": "8e73500b-f60b-4c39-c3ca-830d92638383"
      },
      "execution_count": 55,
      "outputs": [
        {
          "output_type": "execute_result",
          "data": {
            "text/plain": [
              "array([[10, 20, 30],\n",
              "       [40, 50, 60],\n",
              "       [70, 80, 90]])"
            ]
          },
          "metadata": {},
          "execution_count": 55
        }
      ]
    },
    {
      "cell_type": "code",
      "source": [
        "mat1=np.resize(mat,(10,10))\n",
        "mat1"
      ],
      "metadata": {
        "colab": {
          "base_uri": "https://localhost:8080/"
        },
        "id": "ZpPvKa4Px4Od",
        "outputId": "e0c711a2-54ac-4b2e-d163-56c7ff04ccac"
      },
      "execution_count": 63,
      "outputs": [
        {
          "output_type": "execute_result",
          "data": {
            "text/plain": [
              "array([[10, 20, 30, 40, 50, 60, 70, 80, 90, 10],\n",
              "       [20, 30, 40, 50, 60, 70, 80, 90, 10, 20],\n",
              "       [30, 40, 50, 60, 70, 80, 90, 10, 20, 30],\n",
              "       [40, 50, 60, 70, 80, 90, 10, 20, 30, 40],\n",
              "       [50, 60, 70, 80, 90, 10, 20, 30, 40, 50],\n",
              "       [60, 70, 80, 90, 10, 20, 30, 40, 50, 60],\n",
              "       [70, 80, 90, 10, 20, 30, 40, 50, 60, 70],\n",
              "       [80, 90, 10, 20, 30, 40, 50, 60, 70, 80],\n",
              "       [90, 10, 20, 30, 40, 50, 60, 70, 80, 90],\n",
              "       [10, 20, 30, 40, 50, 60, 70, 80, 90, 10]])"
            ]
          },
          "metadata": {},
          "execution_count": 63
        }
      ]
    },
    {
      "cell_type": "code",
      "source": [
        "rshape=np.reshape(mat1,(1,-1)) # -1 create  no of columns  that is equal to tatal item in array\n",
        "print(rshape)"
      ],
      "metadata": {
        "colab": {
          "base_uri": "https://localhost:8080/"
        },
        "id": "iW7BEZo9xFnh",
        "outputId": "5b18ae6a-2c7b-46dd-bfe4-f6686fdaaf06"
      },
      "execution_count": 64,
      "outputs": [
        {
          "output_type": "stream",
          "name": "stdout",
          "text": [
            "[[10 20 30 40 50 60 70 80 90 10 20 30 40 50 60 70 80 90 10 20 30 40 50 60\n",
            "  70 80 90 10 20 30 40 50 60 70 80 90 10 20 30 40 50 60 70 80 90 10 20 30\n",
            "  40 50 60 70 80 90 10 20 30 40 50 60 70 80 90 10 20 30 40 50 60 70 80 90\n",
            "  10 20 30 40 50 60 70 80 90 10 20 30 40 50 60 70 80 90 10 20 30 40 50 60\n",
            "  70 80 90 10]]\n"
          ]
        }
      ]
    },
    {
      "cell_type": "code",
      "source": [
        "rshape=np.reshape(mat1,(-1,1)) # -1 create  no of rows  that is equal to tatal item in array\n",
        "print(rshape)"
      ],
      "metadata": {
        "colab": {
          "base_uri": "https://localhost:8080/"
        },
        "id": "iqrsQSxmxXGz",
        "outputId": "4e641c9f-17cf-4702-b438-e79a362467e7"
      },
      "execution_count": 65,
      "outputs": [
        {
          "output_type": "stream",
          "name": "stdout",
          "text": [
            "[[10]\n",
            " [20]\n",
            " [30]\n",
            " [40]\n",
            " [50]\n",
            " [60]\n",
            " [70]\n",
            " [80]\n",
            " [90]\n",
            " [10]\n",
            " [20]\n",
            " [30]\n",
            " [40]\n",
            " [50]\n",
            " [60]\n",
            " [70]\n",
            " [80]\n",
            " [90]\n",
            " [10]\n",
            " [20]\n",
            " [30]\n",
            " [40]\n",
            " [50]\n",
            " [60]\n",
            " [70]\n",
            " [80]\n",
            " [90]\n",
            " [10]\n",
            " [20]\n",
            " [30]\n",
            " [40]\n",
            " [50]\n",
            " [60]\n",
            " [70]\n",
            " [80]\n",
            " [90]\n",
            " [10]\n",
            " [20]\n",
            " [30]\n",
            " [40]\n",
            " [50]\n",
            " [60]\n",
            " [70]\n",
            " [80]\n",
            " [90]\n",
            " [10]\n",
            " [20]\n",
            " [30]\n",
            " [40]\n",
            " [50]\n",
            " [60]\n",
            " [70]\n",
            " [80]\n",
            " [90]\n",
            " [10]\n",
            " [20]\n",
            " [30]\n",
            " [40]\n",
            " [50]\n",
            " [60]\n",
            " [70]\n",
            " [80]\n",
            " [90]\n",
            " [10]\n",
            " [20]\n",
            " [30]\n",
            " [40]\n",
            " [50]\n",
            " [60]\n",
            " [70]\n",
            " [80]\n",
            " [90]\n",
            " [10]\n",
            " [20]\n",
            " [30]\n",
            " [40]\n",
            " [50]\n",
            " [60]\n",
            " [70]\n",
            " [80]\n",
            " [90]\n",
            " [10]\n",
            " [20]\n",
            " [30]\n",
            " [40]\n",
            " [50]\n",
            " [60]\n",
            " [70]\n",
            " [80]\n",
            " [90]\n",
            " [10]\n",
            " [20]\n",
            " [30]\n",
            " [40]\n",
            " [50]\n",
            " [60]\n",
            " [70]\n",
            " [80]\n",
            " [90]\n",
            " [10]]\n"
          ]
        }
      ]
    },
    {
      "cell_type": "code",
      "source": [],
      "metadata": {
        "id": "qAP3Gyw7x1JV"
      },
      "execution_count": null,
      "outputs": []
    }
  ]
}